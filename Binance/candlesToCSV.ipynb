{
 "cells": [
  {
   "cell_type": "code",
   "execution_count": 1,
   "metadata": {
    "collapsed": true
   },
   "outputs": [
    {
     "name": "stdout",
     "output_type": "stream",
     "text": [
      "1502928000000\n"
     ]
    }
   ],
   "source": [
    "# https://algotrading101.com/learn/binance-python-api-guide/\n",
    "\n",
    "import csv\n",
    "from binance import Client, ThreadedWebsocketManager, ThreadedDepthCacheManager\n",
    "\n",
    "import configparser\n",
    "# Загрузка ключей из файла config\n",
    "config = configparser.ConfigParser()\n",
    "config.read_file(open('../secret.cfg'))\n",
    "api_key = config.get('BINANCE', 'API_KEY')\n",
    "api_secret = config.get('BINANCE', 'SECRET_KEY')\n",
    "\n",
    "client = Client(api_key, api_secret)\n",
    "\n",
    "candles = client.get_klines(symbol='BNBBTC', interval=Client.KLINE_INTERVAL_30MINUTE)\n",
    "\n",
    "# valid intervals - 1m, 3m, 5m, 15m, 30m, 1h, 2h, 4h, 6h, 8h, 12h, 1d, 3d, 1w, 1M\n",
    "\n",
    "# get timestamp of earliest date data is available\n",
    "timestamp = client._get_earliest_valid_timestamp('BTCUSDT', '1d')\n",
    "print(timestamp)\n",
    "\n",
    "# request historical candle (or klines) data\n",
    "bars = client.get_historical_klines('BTCUSDT', '1d', timestamp, limit=1000)\n",
    "\n",
    "import json\n",
    "# option 1 - save to file using json method\n",
    "with open('btc_bars.json', 'w') as e:\n",
    "    json.dump(bars, e)\n",
    "\n",
    "\n",
    "# option 2 - save as CSV file using the csv writer library\n",
    "with open('btc_bars.csv', 'w', newline='') as f:\n",
    "    wr = csv.writer(f)\n",
    "    for line in bars:\n",
    "        wr.writerow(line)\n",
    "\n",
    "# option 3 - save as CSV file without using a library.\n",
    "with open('btc_bars2.csv', 'w') as d:\n",
    "    for line in bars:\n",
    "        d.write(f'{line[0]}, {line[1]}, {line[2]}, {line[3]}, {line[4]}\\n')\n",
    "\n",
    "#\n",
    "# import pandas as pd\n",
    "# # option 4 - create a Pandas DataFrame and export to CSV\n",
    "# btc_df = pd.DataFrame(bars, columns=['date', 'open', 'high', 'low', 'close'])\n",
    "# btc_df.set_index('date', inplace=True)\n",
    "# print(btc_df.head())\n",
    "#\n",
    "# # export DataFrame to csv\n",
    "# btc_df.to_csv('btc_bars3.csv')"
   ]
  }
 ],
 "metadata": {
  "kernelspec": {
   "display_name": "Python 3",
   "language": "python",
   "name": "python3"
  },
  "language_info": {
   "codemirror_mode": {
    "name": "ipython",
    "version": 2
   },
   "file_extension": ".py",
   "mimetype": "text/x-python",
   "name": "python",
   "nbconvert_exporter": "python",
   "pygments_lexer": "ipython2",
   "version": "2.7.6"
  }
 },
 "nbformat": 4,
 "nbformat_minor": 0
}