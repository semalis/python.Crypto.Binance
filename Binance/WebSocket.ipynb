{
 "cells": [
  {
   "cell_type": "code",
   "execution_count": 1,
   "metadata": {
    "collapsed": true
   },
   "outputs": [
    {
     "ename": "TabError",
     "evalue": "inconsistent use of tabs and spaces in indentation (2596437904.py, line 8)",
     "output_type": "error",
     "traceback": [
      "\u001B[0;36m  File \u001B[0;32m\"/var/folders/92/nwcr41r54dl8w3bkn9lrs8100000gn/T/ipykernel_28079/2596437904.py\"\u001B[0;36m, line \u001B[0;32m8\u001B[0m\n\u001B[0;31m    print(msg['c'])\u001B[0m\n\u001B[0m                   ^\u001B[0m\n\u001B[0;31mTabError\u001B[0m\u001B[0;31m:\u001B[0m inconsistent use of tabs and spaces in indentation\n"
     ]
    }
   ],
   "source": [
    "from time import sleep\n",
    "\n",
    "from binance import ThreadedWebsocketManager\n",
    "\n",
    "btc_price = {'error':False}\n",
    "def btc_trade_history(msg):\n",
    "    \"\"\" define how to process incoming WebSocket messages \"\"\"\n",
    "    if msg['e'] != 'error':\n",
    "\tprint(msg['c'])\n",
    "\tbtc_price['last'] = msg['c']\n",
    "\tbtc_price['bid'] = msg['b']\n",
    "\tbtc_price['last'] = msg['a']\n",
    "\tbtc_price['error'] = False\n",
    "    else:\n",
    "        btc_price['error'] = True\n",
    "\n",
    "# init and start the WebSocket\n",
    "bsm = ThreadedWebsocketManager()\n",
    "bsm.start()\n",
    "\n",
    "# subscribe to a stream\n",
    "bsm.start_symbol_ticker_socket(callback=btc_trade_history, symbol='BTCUSDT')\n",
    "bsm.start_symbol_ticker_socket(callback=btc_trade_history, symbol='ETHUSDT')\n",
    "\n",
    "# bsm.stop()"
   ]
  },
  {
   "cell_type": "code",
   "execution_count": null,
   "outputs": [],
   "source": [],
   "metadata": {
    "collapsed": false,
    "pycharm": {
     "name": "#%%\n"
    }
   }
  }
 ],
 "metadata": {
  "kernelspec": {
   "display_name": "Python 3",
   "language": "python",
   "name": "python3"
  },
  "language_info": {
   "codemirror_mode": {
    "name": "ipython",
    "version": 2
   },
   "file_extension": ".py",
   "mimetype": "text/x-python",
   "name": "python",
   "nbconvert_exporter": "python",
   "pygments_lexer": "ipython2",
   "version": "2.7.6"
  }
 },
 "nbformat": 4,
 "nbformat_minor": 0
}